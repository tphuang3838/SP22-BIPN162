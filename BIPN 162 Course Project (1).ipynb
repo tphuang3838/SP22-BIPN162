{
 "cells": [
  {
   "cell_type": "markdown",
   "id": "1886dc62",
   "metadata": {},
   "source": [
    "# Data Generation"
   ]
  },
  {
   "cell_type": "code",
   "execution_count": 1,
   "id": "ceff770a",
   "metadata": {},
   "outputs": [],
   "source": [
    "from collections import namedtuple\n",
    "class HodgkinHuxley():\n",
    "    \"\"\"Full Hodgkin-Huxley Model implemented in Python\"\"\" \n",
    "\n",
    "    import numpy as np\n",
    "    import scipy.signal as sps\n",
    "    import matplotlib.pyplot as plt\n",
    "    from scipy.integrate import odeint\n",
    "  \n",
    "    def __init__(self,time):\n",
    "        self.t = time\n",
    "\n",
    "    # HH Constants \n",
    "    C_m =   1.0    # [uF/cm^2] membrane capacitance\n",
    "    g_Na = 120.0    # [mS/cm^2] Sodium (Na) maximum conductance\n",
    "    g_K  =  36.0    # [mS/cm^2] Postassium (K) maximum conductance\n",
    "    g_L  =   0.3    # [mS/cm^2] Leak maximum conductance\n",
    "\n",
    "    E_Na =  50.0    # [mV] Sodium (Na) Nernst reversal potential\n",
    "    E_K  = -77.0    # [mV] Potassium (K) Nernst reversal potential\n",
    "    E_L  = -54.387  # [mV] Leak Nernst reversal potential\n",
    "\n",
    "    def alpha_m(self, V):\n",
    "        \"\"\"Channel gating kinetics. Functions of membrane voltage\"\"\"\n",
    "        return 0.1*(V+40.0)/(1.0 - np.exp(-(V+40.0) / 10.0))\n",
    "\n",
    "    def beta_m(self, V):\n",
    "        \"\"\"Channel gating kinetics. Functions of membrane voltage\"\"\"\n",
    "        return 4*np.exp(-(V+65)/(18))\n",
    "\n",
    "    def tau_m(self, V):\n",
    "        \"\"\"Channel gating kinetics. Functions of membrane voltage\"\"\"\n",
    "        return 1/(self.alpha_m(V)+self.beta_m(V))\n",
    "\n",
    "    def m_0(self, V):\n",
    "        \"\"\"Channel gating kinetics. Functions of membrane voltage\"\"\"\n",
    "        return (self.alpha_m(V))/(self.alpha_m(V)+ self.beta_m(V))\n",
    "\n",
    "    def alpha_h(self, V):\n",
    "        \"\"\"Channel gating kinetics. Functions of membrane voltage\"\"\"\n",
    "        return 0.07*np.exp(-(V+65)/20)\n",
    "\n",
    "    def beta_h(self, V):\n",
    "        \"\"\"Channel gating kinetics. Functions of membrane voltage\"\"\"\n",
    "        return 1/(1+(np.exp(-(V+35)/10)))\n",
    "\n",
    "    def tau_h(self, V):\n",
    "        \"\"\"Channel gating kinetics. Functions of membrane voltage\"\"\"\n",
    "        return 1/(self.alpha_h(V)+self.beta_h(V))\n",
    "\n",
    "    def h_0(self, V):\n",
    "        \"\"\"Channel gating kinetics. Functions of membrane voltage\"\"\"\n",
    "        return self.alpha_h(V)/(self.alpha_h(V)+self.beta_h(V))\n",
    "\n",
    "    def alpha_n(self, V):\n",
    "        \"\"\"Channel gating kinetics. Functions of membrane voltage\"\"\"\n",
    "        return 0.01*((V+55)/(1-np.exp(-(V+55)/10)))\n",
    "\n",
    "    def beta_n(self, V):\n",
    "        \"\"\"Channel gating kinetics. Functions of membrane voltage\"\"\"\n",
    "        return 0.125*np.exp(-(V+65)/80)\n",
    "\n",
    "    def tau_n(self, V):\n",
    "        \"\"\"Channel gating kinetics. Functions of membrane voltage\"\"\"\n",
    "        return 1/(self.alpha_n(V) + self.beta_n(V))\n",
    "\n",
    "    def n_0(self, V):\n",
    "        \"\"\"Channel gating kinetics. Functions of membrane voltage\"\"\"\n",
    "        return self.alpha_n(V)/(self.alpha_n(V)+self.beta_n(V))\n",
    "\n",
    "    def I_Na(self, V, m, h):\n",
    "        \"\"\"\n",
    "        Membrane current (in uA/cm^2)\n",
    "        Sodium (Na = element name)\n",
    "        \"\"\"\n",
    "        return self.g_Na*m**3*h*(V-self.E_Na)\n",
    "\n",
    "    def I_K(self, V, n):\n",
    "        \"\"\"\n",
    "        Membrane current (in uA/cm^2)\n",
    "        Potassium (K = element name)\n",
    "        \"\"\"\n",
    "        return self.g_K*n**4*(V-self.E_K)\n",
    "    \n",
    "    #  Leak \n",
    "    def I_L(self, V):\n",
    "        \"\"\"\n",
    "        Membrane current (in uA/cm^2)\n",
    "        Leak\n",
    "        \"\"\"\n",
    "        return self.g_L*(V-self.E_L)\n",
    "\n",
    "    def I_inj(self, t, iinj):\n",
    "        \"\"\"\n",
    "        |  :param t: time\n",
    "        |  :return: step up to 10 uA/cm^2 at t>100\n",
    "        |           step down to 0 uA/cm^2 at t>200\n",
    "        |           step up to 35 uA/cm^2 at t>300\n",
    "        |           step down to 0 uA/cm^2 at t>400\n",
    "        External Current\n",
    "        iinj[0] = input current\n",
    "        iinj[1] = time current starts\n",
    "        iinj[2] = time current stops\n",
    "        \"\"\"\n",
    "        return iinj[0]*(t>iinj[1]) - iinj[0]*(t>iinj[2])\n",
    "    \n",
    "   \n",
    "\n",
    "    @staticmethod\n",
    "    def dALLdt(X, t, self):\n",
    "     \n",
    "        #dX = np.zeros((4,))\n",
    "        \n",
    "        \"\"\"\n",
    "        Calculate the change in each of the variables.\n",
    "\n",
    "        |  :param X:\n",
    "        |  :param t:\n",
    "        |  :return: calculate membrane potential & activation variables\n",
    "        \"\"\"\n",
    "        V, m, h, n = X\n",
    "\n",
    "        dVdt = (self.I_inj(t, self.iinj) - self.I_Na(V, m, h) - self.I_K(V, n) - self.I_L(V) + np.random.random()/10000)/self.C_m\n",
    "        dmdt = (-(1/self.tau_m(V))*(m - self.m_0(V)))\n",
    "        dhdt = (-(1/self.tau_h(V))*(h - self.h_0(V)))\n",
    "        dndt = (-(1/self.tau_n(V)))*(n - self.n_0(V))\n",
    "        return dVdt, dmdt, dhdt, dndt\n",
    "\n",
    "    def HH_EX1a(self,iamp,tstep):\n",
    "        \"\"\"\n",
    "        Simulate a Hodgkin Huxley (HH) neuron subject to a single pulse current injection.\n",
    "\n",
    "        Plot the voltage as a function of time for different current amplitudes.\n",
    "        What is the spike threshold? \n",
    "        Bonus: Does the spike threshold depend on the duration of the pulse?\n",
    "        \n",
    "        (Hint: you can use the odeint function to integrate a system of equations.\n",
    "        Docs: https://docs.scipy.org/doc/scipy/reference/generated/scipy.integrate.odeint.html)\n",
    "        Example:\n",
    "            X = odeint(self.dALLdt, [-65, 0.05, 0.6, 0.32], self.t, args=(self,))\n",
    "            V = X[:,0]\n",
    "            m = X[:,1]\n",
    "            h = X[:,2]\n",
    "            n = X[:,3]\n",
    "        Here, the [-65, 0.05, 0.6, 0.32] are the initial values for V, m, h, and n respectively.\\\n",
    "        I used the parameters iamp and tstep to represent the amplitude and the start/stop of\n",
    "        some external input. You can feel free to define it in a similar fashion, or implement\n",
    "        your own way of getting the injected current.\n",
    "        \"\"\"\n",
    "        self.iinj = [iamp, tstep[0], tstep[1]]\n",
    "\n",
    "        X = odeint(self.dALLdt, [-65, 0.05, 0.6, 0.32], self.t, args=(self,))\n",
    "        V = X[:,0]\n",
    "        m = X[:,1]\n",
    "        h = X[:,2]\n",
    "        n = X[:,3]\n",
    "       \n",
    "        x = self.t\n",
    "        y = V\n",
    "\n",
    "        plt.plot(x, y, label='Voltage')\n",
    "\n",
    "        plt.title('HH neuron subject to single pulse current injection')\n",
    "        plt.xlabel('Time (ms)')\n",
    "        plt.ylabel('Voltage (mV)')\n",
    "        plt.legend()\n",
    "        plt.show()\n",
    "        \n",
    "        ap_max = max(y)\n",
    "        ap_min = min(y)\n",
    "        total_amplitude = ap_max - ap_min\n",
    "        max_index = np.where(y == max(y))\n",
    "        min_index = np.where(y == min(y))\n",
    "        spike_time = x[108] - x[82]\n",
    "        #print(x)\n",
    "        #print(y)\n",
    "        print(ap_max)\n",
    "        print(ap_min)\n",
    "        print(total_amplitude)\n",
    "        print(str(spike_time) + ' ms')"
   ]
  },
  {
   "cell_type": "code",
   "execution_count": 28,
   "id": "971abcef",
   "metadata": {},
   "outputs": [
    {
     "data": {
      "image/png": "[encoded data removed]",
      "text/plain": [
       "<Figure size 432x288 with 1 Axes>"
      ]
     },
     "metadata": {
      "needs_background": "light"
     },
     "output_type": "display_data"
    },
    {
     "name": "stdout",
     "output_type": "stream",
     "text": [
      "25.87612051437222\n",
      "-76.07610651126981\n",
      "101.95222702564203\n",
      "2.5999999999999996 ms\n"
     ]
    },
    {
     "data": {
      "image/png": "[encoded data removed]",
      "text/plain": [
       "<Figure size 432x288 with 1 Axes>"
      ]
     },
     "metadata": {
      "needs_background": "light"
     },
     "output_type": "display_data"
    },
    {
     "name": "stdout",
     "output_type": "stream",
     "text": [
      "26.40152686412355\n",
      "-76.08070204120594\n",
      "102.48222890532949\n",
      "2.5999999999999996 ms\n"
     ]
    },
    {
     "data": {
      "image/png": "[encoded data removed]",
      "text/plain": [
       "<Figure size 432x288 with 1 Axes>"
      ]
     },
     "metadata": {
      "needs_background": "light"
     },
     "output_type": "display_data"
    },
    {
     "name": "stdout",
     "output_type": "stream",
     "text": [
      "25.776671609098422\n",
      "-76.0761187167677\n",
      "101.85279032586612\n",
      "2.5999999999999996 ms\n"
     ]
    },
    {
     "data": {
      "image/png": "[encoded data removed]",
      "text/plain": [
       "<Figure size 432x288 with 1 Axes>"
      ]
     },
     "metadata": {
      "needs_background": "light"
     },
     "output_type": "display_data"
    },
    {
     "name": "stdout",
     "output_type": "stream",
     "text": [
      "26.55282427279299\n",
      "-76.07972187557048\n",
      "102.63254614836347\n",
      "2.5999999999999996 ms\n"
     ]
    },
    {
     "data": {
      "image/png": "[encoded data removed]",
      "text/plain": [
       "<Figure size 432x288 with 1 Axes>"
      ]
     },
     "metadata": {
      "needs_background": "light"
     },
     "output_type": "display_data"
    },
    {
     "name": "stdout",
     "output_type": "stream",
     "text": [
      "25.470991721179054\n",
      "-76.07327149889164\n",
      "101.54426322007069\n",
      "2.5999999999999996 ms\n"
     ]
    }
   ],
   "source": [
    "# You can use the following code to define some input current and call your HH_EX1a function.\n",
    "import numpy as np\n",
    "import scipy.signal as sps\n",
    "import matplotlib.pyplot as plt\n",
    "from scipy.integrate import odeint\n",
    "\n",
    "spikes = np.arange(1, 6)\n",
    "#print(spikes)\n",
    "\n",
    "for ap in spikes:\n",
    "    iamp = 68.05026 \n",
    "    tstep = np.arange(0.0, 50.0, 0.1)\n",
    "    runner1a = HodgkinHuxley(np.arange(0.0, 50.0, 0.1)) # simulate for 50ms\n",
    "    runner1a.HH_EX1a(iamp, tstep)"
   ]
  },
  {
   "cell_type": "code",
   "execution_count": null,
   "id": "4ea67318",
   "metadata": {},
   "outputs": [],
   "source": [
    "for ap in spikes:\n",
    "    iamp = 68.05026 \n",
    "    tstep = np.arange(0.0, 50.0, 0.1)\n",
    "    runner1a = HodgkinHuxley(np.arange(0.0, 50.0, 0.1)) # simulate for 50ms\n",
    "    runner1a.HH_EX1a(iamp, tstep)"
   ]
  },
  {
   "cell_type": "markdown",
   "id": "2342761d",
   "metadata": {},
   "source": [
    "## Code for data processing and train/test set creation"
   ]
  },
  {
   "cell_type": "code",
   "execution_count": 3,
   "id": "cfcc7d34",
   "metadata": {},
   "outputs": [
    {
     "name": "stdout",
     "output_type": "stream",
     "text": [
      "Defaulting to user installation because normal site-packages is not writeable\n",
      "Requirement already satisfied: torch in /home/tphuang/.local/lib/python3.9/site-packages (1.11.0)\n",
      "Requirement already satisfied: torchvision in /home/tphuang/.local/lib/python3.9/site-packages (0.12.0)\n",
      "Requirement already satisfied: typing-extensions in /opt/conda/lib/python3.9/site-packages (from torch) (3.10.0.0)\n",
      "Requirement already satisfied: numpy in /opt/conda/lib/python3.9/site-packages (from torchvision) (1.21.1)\n",
      "Requirement already satisfied: requests in /opt/conda/lib/python3.9/site-packages (from torchvision) (2.26.0)\n",
      "Requirement already satisfied: pillow!=8.3.*,>=5.3.0 in /home/tphuang/.local/lib/python3.9/site-packages (from torchvision) (9.1.1)\n",
      "Requirement already satisfied: certifi>=2017.4.17 in /opt/conda/lib/python3.9/site-packages (from requests->torchvision) (2021.10.8)\n",
      "Requirement already satisfied: idna<4,>=2.5 in /opt/conda/lib/python3.9/site-packages (from requests->torchvision) (3.1)\n",
      "Requirement already satisfied: charset-normalizer~=2.0.0 in /opt/conda/lib/python3.9/site-packages (from requests->torchvision) (2.0.0)\n",
      "Requirement already satisfied: urllib3<1.27,>=1.21.1 in /opt/conda/lib/python3.9/site-packages (from requests->torchvision) (1.26.6)\n"
     ]
    }
   ],
   "source": [
    "!pip3 install torch torchvision\n",
    "\n",
    "import csv\n",
    "from numpy import genfromtxt\n",
    "import numpy as np\n",
    "import pandas as pd\n",
    "from random import random\n",
    "import torch.optim as optim\n",
    "import torch.nn as nn\n",
    "import torch.nn.functional as F\n",
    "import math\n",
    "import sklearn.linear_model"
   ]
  },
  {
   "cell_type": "code",
   "execution_count": 4,
   "id": "cf35402d",
   "metadata": {},
   "outputs": [],
   "source": [
    "FS = np.zeros((1438875, 38));\n",
    "PT = np.zeros((319584, 38));\n",
    "IT = np.zeros((126470, 38));"
   ]
  },
  {
   "cell_type": "code",
   "execution_count": 5,
   "id": "380c61ff",
   "metadata": {},
   "outputs": [],
   "source": [
    "# Function to check and remove NaNs from dataset\n",
    "def dataChecker(arr):\n",
    "    idxRow = -1\n",
    "    for row in arr:\n",
    "        idxRow = idxRow + 1\n",
    "        for idx in range(len(row)):\n",
    "            if math.isnan(arr[idxRow,idx]) == True:\n",
    "                arr[idxRow, idx] = 0\n",
    "    return arr"
   ]
  },
  {
   "cell_type": "code",
   "execution_count": 6,
   "id": "fc1d0e9a",
   "metadata": {},
   "outputs": [],
   "source": [
    "# Find max value in the dataset and its index\n",
    "def maxVal(arr):\n",
    "    idxRow = -1\n",
    "    maxVal = -100\n",
    "    indexes = np.empty(2)\n",
    "    for row in arr:\n",
    "        idxRow = idxRow + 1\n",
    "        for idx in range(len(row)):\n",
    "            if ((arr[idxRow,idx] > maxVal) and (idx != 0 and idx != 4 and idx != 5 and idx != 6 and idx != 7 and idx != 8)):\n",
    "                maxVal = arr[idxRow, idx]\n",
    "                indexes[0] = idxRow\n",
    "                indexes[1] = idx\n",
    "    return indexes, maxVal"
   ]
  },
  {
   "cell_type": "code",
   "execution_count": 7,
   "id": "550be61f",
   "metadata": {},
   "outputs": [],
   "source": [
    "# Find max value in the dataset and its index\n",
    "def minVal(arr):\n",
    "    idxRow = -1\n",
    "    minVal = 100\n",
    "    indexes = np.empty(2)\n",
    "    for row in arr:\n",
    "        idxRow = idxRow + 1\n",
    "        for idx in range(len(row)):\n",
    "            if ((arr[idxRow,idx] < minVal) and (idx != 0 and idx != 4 and idx != 5 and idx != 6 and idx != 7 and idx != 8)):\n",
    "                minVal = arr[idxRow, idx]\n",
    "                indexes[0] = idxRow\n",
    "                indexes[1] = idx\n",
    "    return indexes, minVal"
   ]
  },
  {
   "cell_type": "code",
   "execution_count": 8,
   "id": "8b2394bc",
   "metadata": {},
   "outputs": [],
   "source": [
    "# Scale all values in the array that are the waveform or waveform-dependent to a range\n",
    "def scaleVals(arrIn, arrOut, minAllowed, maxAllowed, minValue, maxValue):\n",
    "    idxRow = -1\n",
    "    for row in arrIn:\n",
    "        idxRow = idxRow + 1\n",
    "        for idx in range(len(row)):\n",
    "            if(idx != 0 and idx != 4 and idx != 5 and idx != 6 and idx != 7 and idx != 8):\n",
    "                scaled = (((maxAllowed - minAllowed) * (arrIn[idxRow,idx] - minValue)) / (maxValue - minValue)) + minAllowed\n",
    "                arrOut[idxRow, idx] = scaled\n",
    "            else:\n",
    "                arrOut[idxRow, idx] = arrIn[idxRow,idx]\n",
    "    return arrOut"
   ]
  },
  {
   "cell_type": "code",
   "execution_count": 9,
   "id": "f0a3d8de",
   "metadata": {},
   "outputs": [],
   "source": [
    "# Perform Recursive Feature Elimination to identify the 3 top features\n",
    "def RFE(arr):\n",
    "    #data = X, target = Y\n",
    "    X = arr[:,1:9]\n",
    "    Y = arr[:,0]\n",
    "    \n",
    "    #Feature extraction\n",
    "    model = sklearn.linear_model.LogisticRegression()\n",
    "    rfeFeatures = sklearn.feature_selection.RFE(model, 3)\n",
    "    fit = rfeFeatures.fit(X,Y)\n",
    "    return fit.ranking_"
   ]
  },
  {
   "cell_type": "code",
   "execution_count": 10,
   "id": "3f563e47",
   "metadata": {},
   "outputs": [],
   "source": [
    "# Number of waveforms for each neuron cell type\n",
    "valsFS = 1438775\n",
    "valsPT = 319484\n",
    "valsIT = 126460"
   ]
  },
  {
   "cell_type": "code",
   "execution_count": 11,
   "id": "e6814595",
   "metadata": {},
   "outputs": [],
   "source": [
    "# Number of rows in each array\n",
    "rows_FS = valsFS\n",
    "rows_PT = valsPT\n",
    "rows_IT = valsIT"
   ]
  },
  {
   "cell_type": "code",
   "execution_count": 12,
   "id": "889cf12f",
   "metadata": {},
   "outputs": [],
   "source": [
    "# Separation value to split up training:testing sets (67:33)\n",
    "sep_FS = 2 * rows_FS // 3\n",
    "sep_PT = 2 * rows_PT // 3\n",
    "sep_IT = 2 * rows_IT // 3"
   ]
  },
  {
   "cell_type": "code",
   "execution_count": 13,
   "id": "fcc28c40",
   "metadata": {},
   "outputs": [],
   "source": [
    "# Create training sets\n",
    "col = 38\n",
    "trainArrSize = sep_FS\n",
    "train_set_FS = np.empty((trainArrSize,col))\n",
    "train_set_PT_attr = np.empty((trainArrSize,col))\n",
    "train_set_IT_attr = np.empty((trainArrSize,col))"
   ]
  },
  {
   "cell_type": "code",
   "execution_count": 14,
   "id": "2928d8b9",
   "metadata": {},
   "outputs": [],
   "source": [
    "# Fill the training sets with the 66% that is already existent (prior to oversampling)\n",
    "for indFS_init in range(sep_FS):\n",
    "    train_set_FS[indFS_init, :] = FS[indFS_init,:]\n",
    "\n",
    "for indPT_init in range(sep_PT):\n",
    "    train_set_PT_attr[indPT_init, :] = PT[indPT_init,:]\n",
    "\n",
    "for indIT_init in range(sep_IT):\n",
    "    train_set_IT_attr[indIT_init, :] = IT[indIT_init,:]"
   ]
  },
  {
   "cell_type": "code",
   "execution_count": 15,
   "id": "99c815db",
   "metadata": {},
   "outputs": [],
   "source": [
    "# Fill the test sets to completion\n",
    "test_set_FS = np.empty((0,col))\n",
    "test_size_FS = valsFS - sep_FS\n",
    "test_set_PT = np.zeros((0,col))\n",
    "test_size_PT = valsPT - sep_PT\n",
    "test_set_IT = np.zeros((0,col))\n",
    "test_size_IT = valsIT - sep_IT\n",
    "\n",
    "test_set_FS = np.append(test_set_FS, FS[sep_FS:valsFS, :], axis = 0)\n",
    "test_set_PT = np.append(test_set_PT, PT[sep_PT:valsPT, :], axis = 0)\n",
    "test_set_IT = np.append(test_set_IT, IT[sep_IT:valsIT, :], axis = 0)"
   ]
  },
  {
   "cell_type": "code",
   "execution_count": 16,
   "id": "14546c3e",
   "metadata": {},
   "outputs": [],
   "source": [
    "# Oversampling the minority with replacement\n",
    "\n",
    "# Determine how much to add to PT/IT and size of pre-oversampling array\n",
    "numAdd_PT = sep_FS - sep_PT\n",
    "numAdd_IT = sep_FS - sep_IT\n",
    "trainPTArrSize = sep_PT\n",
    "trainITArrSize = sep_IT"
   ]
  },
  {
   "cell_type": "code",
   "execution_count": 17,
   "id": "38b479ba",
   "metadata": {},
   "outputs": [],
   "source": [
    "# Randomize attribute-wise (_attr) for all features but the waveform,\n",
    "# which will be randomized as single unit\n",
    "for indPT_2 in range(trainPTArrSize,numAdd_PT+trainPTArrSize):\n",
    "    for attrPT in range(9):\n",
    "        rand = int(random() * (sep_PT+1))\n",
    "        train_set_PT_attr[indPT_2,attrPT] = train_set_PT_attr[rand, attrPT]\n",
    "    rand = int(random() * (sep_PT+1))\n",
    "    train_set_PT_attr[indPT_2, 9:] = train_set_PT_attr[rand, 9:]\n",
    "\n",
    "for indIT_2 in range(trainITArrSize,numAdd_IT+trainITArrSize):\n",
    "    for attrIT in range(9):\n",
    "        rand = int(random() * (sep_IT+1))\n",
    "        train_set_IT_attr[indIT_2,attrIT] = train_set_IT_attr[rand, attrIT]\n",
    "    rand = int(random() * (sep_IT+1))\n",
    "    train_set_IT_attr[indIT_2, 9:] = train_set_IT_attr[rand, 9:]"
   ]
  },
  {
   "cell_type": "code",
   "execution_count": 18,
   "id": "22ec6484",
   "metadata": {},
   "outputs": [],
   "source": [
    "# Randomly combine individual training and testing sets into master training and testing sets\n",
    "train_set_attr = np.empty((trainArrSize * 3, col))\n",
    "countFS = 0\n",
    "countPT = 0\n",
    "countIT = 0\n",
    "indTrain= 0\n",
    "while indTrain < (trainArrSize * 3):\n",
    "    rand = int(random() * 3 + 1)\n",
    "    if rand == 1 and (countFS + 1 <= trainArrSize):\n",
    "        train_set_attr[indTrain,:] = train_set_FS[countFS,:]\n",
    "        countFS = countFS + 1\n",
    "        indTrain = indTrain + 1\n",
    "    elif rand == 2 and (countPT + 1 <= trainArrSize):\n",
    "        train_set_attr[indTrain,:] = train_set_PT_attr[countPT,:]\n",
    "        countPT = countPT + 1\n",
    "        indTrain = indTrain + 1\n",
    "    elif rand == 3 and (countIT + 1 <= trainArrSize):\n",
    "        train_set_attr[indTrain,:] = train_set_IT_attr[countIT,:]\n",
    "        countIT = countIT + 1\n",
    "        indTrain = indTrain + 1\n",
    "\n",
    "test_set = np.empty((test_size_FS + test_size_PT + test_size_IT, col))\n",
    "countFS = 0\n",
    "countPT = 0\n",
    "countIT = 0\n",
    "indTest = 0\n",
    "while indTest < (test_size_FS + test_size_PT + test_size_IT):\n",
    "    rand = int(random() * 3 + 1)\n",
    "    if rand == 1 and (countFS + 1 <= test_size_FS):\n",
    "        test_set[indTest,:] = test_set_FS[countFS,:]\n",
    "        countFS = countFS + 1\n",
    "        indTest = indTest + 1\n",
    "    elif rand == 2 and (countPT + 1 <= test_size_PT):\n",
    "        test_set[indTest,:] = test_set_PT[countPT,:]\n",
    "        countPT = countPT + 1\n",
    "        indTest = indTest + 1\n",
    "    elif rand == 3 and (countIT + 1 <= test_size_IT):\n",
    "        test_set[indTest,:] = test_set_IT[countIT,:]\n",
    "        countIT = countIT + 1\n",
    "        indTest = indTest + 1"
   ]
  },
  {
   "cell_type": "code",
   "execution_count": 19,
   "id": "0196dd12",
   "metadata": {},
   "outputs": [],
   "source": [
    "# Remove NaNs in each array\n",
    "train_set_attr = dataChecker(train_set_attr)\n",
    "test_set = dataChecker(test_set)"
   ]
  },
  {
   "cell_type": "code",
   "execution_count": 20,
   "id": "3e0522c6",
   "metadata": {},
   "outputs": [
    {
     "name": "stdout",
     "output_type": "stream",
     "text": [
      "training set creation successful\n"
     ]
    }
   ],
   "source": [
    "# Scaling inputs to 0-1\n",
    "\n",
    "#FS, PT, IT = importData()\n",
    "train_set_attr_scld = np.empty((2877549, 38))\n",
    "test_set_scld = np.empty((628241, 38))\n",
    "\n",
    "minValue = -0.00098502\n",
    "maxValue = 0.0011485\n",
    "\n",
    "train_set_attr_scld = scaleVals(train_set_attr, train_set_attr_scld, 0, 1, minValue, maxValue)\n",
    "test_set_scld = scaleVals(test_set, test_set_scld, 0, 1, minValue, maxValue) \n",
    "\n",
    "print('training set creation successful')"
   ]
  },
  {
   "cell_type": "markdown",
   "id": "e83ea1e2",
   "metadata": {},
   "source": [
    "# Code for Perceptron Neural Network"
   ]
  },
  {
   "cell_type": "code",
   "execution_count": 24,
   "id": "e90ca09e",
   "metadata": {},
   "outputs": [],
   "source": [
    "class Perceptron(object):\n",
    "    # The input parameters should be input_size for the number of input neurons, \n",
    "    # lr for the learning rate, and epochs for the number of training epochs.\n",
    "\n",
    "    def __init__(self, input_size, lr=1, epochs=100):\n",
    "        self.W = np.zeros(input_size+1)\n",
    "        # add one for bias\n",
    "        self.epochs = epochs\n",
    "        self.lr = lr\n",
    "    \n",
    "    def activation_fn(self, x):\n",
    "        #return (x >= 0).astype(np.float32)\n",
    "        return 1 if x >= 0 else 0\n",
    "\n",
    "    def predict(self, x):\n",
    "        # Compute the output of the perceptron given an input x and weights W\n",
    "        z = self.W.T.dot(x)\n",
    "        a = self.activation_fn(z)\n",
    "        return a\n",
    "\n",
    "    def fit(self, X, d):\n",
    "        # Train the weights W (including bias) of the perceptron given input data X and desired labels d\n",
    "        for _ in range(self.epochs):\n",
    "            for i in range(d.shape[0]):\n",
    "                x = np.insert(X[i], 0, 1)\n",
    "                y = self.predict(x)\n",
    "                e = d[i] - y\n",
    "                self.W = self.W + self.lr * e * x"
   ]
  }
 ],
 "metadata": {
  "kernelspec": {
   "display_name": "Python 3 (ipykernel)",
   "language": "python",
   "name": "python3"
  },
  "language_info": {
   "codemirror_mode": {
    "name": "ipython",
    "version": 3
   },
   "file_extension": ".py",
   "mimetype": "text/x-python",
   "name": "python",
   "nbconvert_exporter": "python",
   "pygments_lexer": "ipython3",
   "version": "3.9.5"
  }
 },
 "nbformat": 4,
 "nbformat_minor": 5
}
